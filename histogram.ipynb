{
 "cells": [
  {
   "cell_type": "code",
   "execution_count": null,
   "id": "082430fc",
   "metadata": {},
   "outputs": [],
   "source": [
    " "
   ]
  },
  {
   "cell_type": "code",
   "execution_count": 7,
   "id": "1450fb5b",
   "metadata": {},
   "outputs": [
    {
     "data": {
      "text/plain": [
       "array([[<AxesSubplot:title={'center':'PERCENT_DELAYED'}>]], dtype=object)"
      ]
     },
     "execution_count": 7,
     "metadata": {},
     "output_type": "execute_result"
    },
    {
     "data": {
      "image/png": "[encoded data removed]",
      "text/plain": [
       "<Figure size 432x288 with 1 Axes>"
      ]
     },
     "metadata": {
      "needs_background": "light"
     },
     "output_type": "display_data"
    }
   ],
   "source": [
    "# Ian Hochstead\n",
    "# Professor Imran\n",
    "# Data Analytics in Python\n",
    "# Histogram for Capstone Project\n",
    "# August 2021\n",
    "#\n",
    "# Because of the large size of the data set I used for \n",
    "# my capstone project I was only able to run a small\n",
    "# number of samples.  This Python program will draw\n",
    "# a histogram presenting my limited findings.  \n",
    "#  \n",
    "\n",
    "import pandas as pd\n",
    "import matplotlib.pyplot as plt  \n",
    "\n",
    "# Read in the dataframe (csv file)\n",
    "# I don't think this data set is directly available online.\n",
    "# This line will have to be changed to reflect the end \n",
    "# user's data file location.  My off-line data file location:  \n",
    "df = pd.read_csv('C:\\\\Users\\\\ian\\\\Downloads\\\\LGA\\\\flight\\\\samples.csv')\n",
    "    \n",
    "# Draw the default histogram of the different landing zones.\n",
    "df.hist(column = 'PERCENT_DELAYED')\n",
    "\n",
    "#\n",
    "# Final thoughts:\n",
    "#\n",
    "# Upon review, the histogram is informative.\n",
    "# Most days (at least within the sample set)\n",
    "# have about 14-18 percent delayed flights,\n",
    "# whereas occassionally there a 28 percent\n",
    "#\n",
    "\n"
   ]
  },
  {
   "cell_type": "code",
   "execution_count": null,
   "id": "de455f89",
   "metadata": {},
   "outputs": [],
   "source": []
  },
  {
   "cell_type": "code",
   "execution_count": null,
   "id": "4971a898",
   "metadata": {},
   "outputs": [],
   "source": []
  },
  {
   "cell_type": "code",
   "execution_count": null,
   "id": "0df7056a",
   "metadata": {},
   "outputs": [],
   "source": []
  }
 ],
 "metadata": {
  "kernelspec": {
   "display_name": "Python 3",
   "language": "python",
   "name": "python3"
  },
  "language_info": {
   "codemirror_mode": {
    "name": "ipython",
    "version": 3
   },
   "file_extension": ".py",
   "mimetype": "text/x-python",
   "name": "python",
   "nbconvert_exporter": "python",
   "pygments_lexer": "ipython3",
   "version": "3.8.8"
  }
 },
 "nbformat": 4,
 "nbformat_minor": 5
}
