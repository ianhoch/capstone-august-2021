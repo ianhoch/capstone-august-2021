{
 "cells": [
  {
   "cell_type": "code",
   "execution_count": null,
   "id": "082430fc",
   "metadata": {},
   "outputs": [],
   "source": [
    " "
   ]
  },
  {
   "cell_type": "code",
   "execution_count": 1,
   "id": "1450fb5b",
   "metadata": {},
   "outputs": [
    {
     "name": "stdout",
     "output_type": "stream",
     "text": [
      "\n",
      "Total number of ontime flights:  14024\n",
      "\n",
      "Total number of flights:  16291\n",
      "\n",
      "Total delayed flights:   2267\n",
      "\n",
      "0    Airline:  AA\\n\n",
      "dtype: object\n",
      "0    Origin:  ORD\\n\n",
      "dtype: object\n",
      "0    Destination BOS\\n\n",
      "dtype: object\n"
     ]
    }
   ],
   "source": [
    "# Ian Hochstead\n",
    "# Professor Imran\n",
    "# Data Analytics in Python\n",
    "# Capstone Project\n",
    "# August 2021\n",
    "#  \n",
    "\n",
    "import pandas as pd\n",
    "import matplotlib.pyplot as plt  \n",
    "\n",
    "# Read in the dataframe (csv file)\n",
    "# I don't think this data set is directly available online.\n",
    "# This line will have to be changed to reflect the end \n",
    "# user's data file location.  It can also be changed to use\n",
    "# different day's (samples) of the data, as indicated by the\n",
    "# different version numbers.  My off-line data file location:  \n",
    "# Version 1:\n",
    "# df = pd.read_csv('C:\\\\Users\\\\ian\\\\Downloads\\\\LGA\\\\flight\\\\flights-jul-15.csv')\n",
    "# Version 2:\n",
    "# df = pd.read_csv('C:\\\\Users\\\\ian\\\\Downloads\\\\LGA\\\\flight\\\\flights-jul-16.csv')\n",
    "# Version 3:\n",
    "# df = pd.read_csv('C:\\\\Users\\\\ian\\\\Downloads\\\\LGA\\\\flight\\\\flights-jul-17.csv')\n",
    "# Version 4:\n",
    "df = pd.read_csv('C:\\\\Users\\\\ian\\\\Downloads\\\\LGA\\\\flight\\\\flights-sep-30.csv')\n",
    "# Version 5:\n",
    "#df = pd.read_csv('C:\\\\Users\\\\ian\\\\Downloads\\\\LGA\\\\flight\\\\flights-dec-16.csv')\n",
    "   \n",
    "# Get some general information about the data set \n",
    "# especially the number of columns and rows.\n",
    "# I eventually removed this line.  It seemed \n",
    "# that providing the information seemed to terminate\n",
    "# the Python program eliminating the more valuable \n",
    "# information provided later on by the Python program.   \n",
    "# df.info()\n",
    "\n",
    "# Replace nan values with zeros\n",
    "df.fillna(value=0.0, inplace=True)\n",
    "\n",
    "# Count and remove the non-delay flights\n",
    "# from the dataframe (df)\n",
    "orgTotal = len(df)\n",
    "noDelay = 0\n",
    "for currentRow in df.index:\n",
    "    if (       df.AIR_SYSTEM_DELAY[currentRow] == 0.0 and\n",
    "               df.SECURITY_DELAY[currentRow] == 0.0 and\n",
    "               df.AIRLINE_DELAY[currentRow] == 0.0 and\n",
    "               df.LATE_AIRCRAFT_DELAY[currentRow] == 0.0 and\n",
    "               df.WEATHER_DELAY[currentRow] == 0.0):\n",
    "        noDelay += 1\n",
    "        df.drop(index = currentRow, inplace = True)\n",
    "        \n",
    "# Re-index the data - this removes \"holes\" in the \n",
    "# data set.\n",
    "df.reset_index(drop = True, inplace = True)\n",
    "  \n",
    "# Print out summary information\n",
    "print(\"\\nTotal number of ontime flights:  \" + str(noDelay))\n",
    "print(\"\\nTotal number of flights:  \" + str(orgTotal) + \"\\n\")\n",
    "print(\"Total delayed flights:   \" + str(len(df)) + \"\\n\")\n",
    "# Print out maximum (the mode) airline delay, and the\n",
    "# maximum departure and arrival point.  \n",
    "print(\"Airline:  \" + df.AIRLINE.mode() + \"\\n\")\n",
    "print(\"Origin:  \" + df.ORIGIN_AIRPORT.mode() + \"\\n\")\n",
    "print(\"Destination \" + df.DESTINATION_AIRPORT.mode() + \"\\n\")\n",
    "\n",
    "# End\n",
    "\n"
   ]
  },
  {
   "cell_type": "code",
   "execution_count": null,
   "id": "de455f89",
   "metadata": {},
   "outputs": [],
   "source": []
  },
  {
   "cell_type": "code",
   "execution_count": null,
   "id": "4971a898",
   "metadata": {},
   "outputs": [],
   "source": []
  },
  {
   "cell_type": "code",
   "execution_count": null,
   "id": "0df7056a",
   "metadata": {},
   "outputs": [],
   "source": []
  },
  {
   "cell_type": "code",
   "execution_count": null,
   "id": "d905abb7",
   "metadata": {},
   "outputs": [],
   "source": []
  },
  {
   "cell_type": "code",
   "execution_count": null,
   "id": "0dae382a",
   "metadata": {},
   "outputs": [],
   "source": []
  },
  {
   "cell_type": "code",
   "execution_count": null,
   "id": "926cb604",
   "metadata": {},
   "outputs": [],
   "source": []
  },
  {
   "cell_type": "code",
   "execution_count": null,
   "id": "4cd2e9b8",
   "metadata": {},
   "outputs": [],
   "source": []
  }
 ],
 "metadata": {
  "kernelspec": {
   "display_name": "Python 3",
   "language": "python",
   "name": "python3"
  },
  "language_info": {
   "codemirror_mode": {
    "name": "ipython",
    "version": 3
   },
   "file_extension": ".py",
   "mimetype": "text/x-python",
   "name": "python",
   "nbconvert_exporter": "python",
   "pygments_lexer": "ipython3",
   "version": "3.8.8"
  }
 },
 "nbformat": 4,
 "nbformat_minor": 5
}
